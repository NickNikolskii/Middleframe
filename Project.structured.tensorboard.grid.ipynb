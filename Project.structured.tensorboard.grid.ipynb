{
 "cells": [
  {
   "cell_type": "markdown",
   "metadata": {},
   "source": [
    "# Middle Frame Prediction"
   ]
  },
  {
   "cell_type": "markdown",
   "metadata": {},
   "source": [
    "## 0) Preparaion"
   ]
  },
  {
   "cell_type": "code",
   "execution_count": 3,
   "metadata": {},
   "outputs": [],
   "source": [
    "import os\n",
    "\n",
    "import torch\n",
    "import torchvision\n",
    "from torch import nn\n",
    "from torch.autograd import Variable\n",
    "from torch.utils.data import DataLoader\n",
    "from torchvision import transforms\n",
    "from torchvision.datasets import MNIST\n",
    "from torchvision.utils import save_image\n",
    "from torch.utils.tensorboard import SummaryWriter\n",
    "\n",
    "if not os.path.exists('./mlp_img'):\n",
    "    os.mkdir('./mlp_img')"
   ]
  },
  {
   "cell_type": "markdown",
   "metadata": {},
   "source": [
    "## 1) Autoencoder Architecture"
   ]
  },
  {
   "cell_type": "code",
   "execution_count": 4,
   "metadata": {},
   "outputs": [],
   "source": [
    "class autoencoder(nn.Module):\n",
    "    def __init__(self):\n",
    "        super(autoencoder, self).__init__()\n",
    "        self.encoder = nn.Sequential(\n",
    "            nn.Linear(28 * 28, 128),\n",
    "            nn.ReLU(True),\n",
    "            nn.Linear(128, 64),\n",
    "            nn.ReLU(True), nn.Linear(64, 12), nn.ReLU(True), nn.Linear(12, 3))\n",
    "        self.decoder = nn.Sequential(\n",
    "            nn.Linear(3, 12),\n",
    "            nn.ReLU(True),\n",
    "            nn.Linear(12, 64),\n",
    "            nn.ReLU(True),\n",
    "            nn.Linear(64, 128),\n",
    "            nn.ReLU(True), nn.Linear(128, 28 * 28), nn.Tanh())\n",
    "\n",
    "    def forward(self, x):\n",
    "        x = self.encoder(x)\n",
    "        x = self.decoder(x)\n",
    "        return x"
   ]
  },
  {
   "cell_type": "markdown",
   "metadata": {},
   "source": [
    "## 2) Loading Dataset"
   ]
  },
  {
   "cell_type": "code",
   "execution_count": 5,
   "metadata": {},
   "outputs": [],
   "source": [
    "img_transform = transforms.Compose([\n",
    "    transforms.Grayscale(num_output_channels=1),\n",
    "    transforms.ToTensor(),\n",
    "#     transforms.Normalize((0.5, 0.5, 0.5), (0.5, 0.5, 0.5)),\n",
    "#     transforms.Grayscale(num_output_channels=1),\n",
    "])\n",
    "\n",
    "\n",
    "image_folder = './data'\n",
    "\n",
    "# dataset = ImageFolder('./data', trans..=...)\n",
    "dataset = MNIST(image_folder, download=True, transform=img_transform)\n",
    "\n",
    "\n",
    "batch_size = 128\n",
    "data_iter = DataLoader(dataset, batch_size=batch_size, shuffle=True)"
   ]
  },
  {
   "cell_type": "markdown",
   "metadata": {},
   "source": [
    "## 3) Network Training"
   ]
  },
  {
   "cell_type": "code",
   "execution_count": 6,
   "metadata": {},
   "outputs": [],
   "source": [
    "from sklearn.model_selection import train_test_split\n",
    "X_train, X_test = train_test_split(dataset, test_size=0.33, random_state=1)"
   ]
  },
  {
   "cell_type": "code",
   "execution_count": 7,
   "metadata": {},
   "outputs": [],
   "source": [
    "data_iter_train = DataLoader(X_train, batch_size = batch_size, shuffle = True)\n",
    "data_iter_test = DataLoader(X_test, batch_size = batch_size, shuffle = True)"
   ]
  },
  {
   "cell_type": "code",
   "execution_count": 113,
   "metadata": {},
   "outputs": [
    {
     "name": "stdout",
     "output_type": "stream",
     "text": [
      "epoch [1/200], loss:0.0336\n",
      "epoch [2/200], loss:0.0338\n",
      "epoch [3/200], loss:0.0337\n",
      "epoch [4/200], loss:0.0336\n",
      "epoch [5/200], loss:0.0334\n",
      "epoch [6/200], loss:0.0336\n",
      "epoch [7/200], loss:0.0334\n",
      "epoch [8/200], loss:0.0337\n",
      "epoch [9/200], loss:0.0335\n",
      "epoch [10/200], loss:0.0336\n",
      "epoch [11/200], loss:0.0335\n",
      "epoch [12/200], loss:0.0335\n",
      "epoch [13/200], loss:0.0334\n",
      "epoch [14/200], loss:0.0334\n",
      "epoch [15/200], loss:0.0334\n",
      "epoch [16/200], loss:0.0334\n",
      "epoch [17/200], loss:0.0334\n",
      "epoch [18/200], loss:0.0334\n",
      "epoch [19/200], loss:0.0333\n",
      "epoch [20/200], loss:0.0336\n",
      "epoch [21/200], loss:0.0336\n",
      "epoch [22/200], loss:0.0335\n",
      "epoch [23/200], loss:0.0334\n",
      "epoch [24/200], loss:0.0335\n",
      "epoch [25/200], loss:0.0333\n",
      "epoch [26/200], loss:0.0337\n",
      "epoch [27/200], loss:0.0334\n",
      "epoch [28/200], loss:0.0333\n",
      "epoch [29/200], loss:0.0332\n",
      "epoch [30/200], loss:0.0335\n",
      "epoch [31/200], loss:0.0333\n",
      "epoch [32/200], loss:0.0335\n",
      "epoch [33/200], loss:0.0334\n",
      "epoch [34/200], loss:0.0333\n",
      "epoch [35/200], loss:0.0333\n",
      "epoch [36/200], loss:0.0335\n",
      "epoch [37/200], loss:0.0332\n",
      "epoch [38/200], loss:0.0331\n",
      "epoch [39/200], loss:0.0336\n",
      "epoch [40/200], loss:0.0331\n",
      "epoch [41/200], loss:0.0333\n",
      "epoch [42/200], loss:0.0333\n",
      "epoch [43/200], loss:0.0332\n",
      "epoch [44/200], loss:0.0331\n",
      "epoch [45/200], loss:0.0331\n",
      "epoch [46/200], loss:0.0334\n",
      "epoch [47/200], loss:0.0332\n",
      "epoch [48/200], loss:0.0332\n",
      "epoch [49/200], loss:0.0333\n",
      "epoch [50/200], loss:0.0331\n",
      "epoch [51/200], loss:0.0330\n",
      "epoch [52/200], loss:0.0334\n",
      "epoch [53/200], loss:0.0331\n",
      "epoch [54/200], loss:0.0330\n",
      "epoch [55/200], loss:0.0331\n",
      "epoch [56/200], loss:0.0330\n",
      "epoch [57/200], loss:0.0330\n",
      "epoch [58/200], loss:0.0331\n",
      "epoch [59/200], loss:0.0329\n",
      "epoch [60/200], loss:0.0330\n",
      "epoch [61/200], loss:0.0330\n",
      "epoch [62/200], loss:0.0330\n",
      "epoch [63/200], loss:0.0330\n",
      "epoch [64/200], loss:0.0329\n",
      "epoch [65/200], loss:0.0333\n",
      "epoch [66/200], loss:0.0329\n",
      "epoch [67/200], loss:0.0333\n",
      "epoch [68/200], loss:0.0329\n",
      "epoch [69/200], loss:0.0331\n",
      "epoch [70/200], loss:0.0332\n",
      "epoch [71/200], loss:0.0329\n",
      "epoch [72/200], loss:0.0329\n",
      "epoch [73/200], loss:0.0331\n",
      "epoch [74/200], loss:0.0331\n",
      "epoch [75/200], loss:0.0330\n",
      "epoch [76/200], loss:0.0329\n",
      "epoch [77/200], loss:0.0329\n",
      "epoch [78/200], loss:0.0329\n",
      "epoch [79/200], loss:0.0330\n",
      "epoch [80/200], loss:0.0330\n",
      "epoch [81/200], loss:0.0329\n",
      "epoch [82/200], loss:0.0330\n",
      "epoch [83/200], loss:0.0328\n",
      "epoch [84/200], loss:0.0329\n",
      "epoch [85/200], loss:0.0329\n",
      "epoch [86/200], loss:0.0329\n",
      "epoch [87/200], loss:0.0329\n",
      "epoch [88/200], loss:0.0328\n",
      "epoch [89/200], loss:0.0329\n",
      "epoch [90/200], loss:0.0328\n",
      "epoch [91/200], loss:0.0329\n",
      "epoch [92/200], loss:0.0330\n",
      "epoch [93/200], loss:0.0328\n",
      "epoch [94/200], loss:0.0329\n",
      "epoch [95/200], loss:0.0327\n",
      "epoch [96/200], loss:0.0330\n",
      "epoch [97/200], loss:0.0327\n",
      "epoch [98/200], loss:0.0329\n",
      "epoch [99/200], loss:0.0329\n",
      "epoch [100/200], loss:0.0327\n",
      "epoch [101/200], loss:0.0327\n",
      "epoch [102/200], loss:0.0328\n",
      "epoch [103/200], loss:0.0326\n",
      "epoch [104/200], loss:0.0333\n",
      "epoch [105/200], loss:0.0329\n",
      "epoch [106/200], loss:0.0329\n",
      "epoch [107/200], loss:0.0328\n",
      "epoch [108/200], loss:0.0326\n",
      "epoch [109/200], loss:0.0326\n",
      "epoch [110/200], loss:0.0327\n",
      "epoch [111/200], loss:0.0327\n",
      "epoch [112/200], loss:0.0331\n",
      "epoch [113/200], loss:0.0330\n",
      "epoch [114/200], loss:0.0329\n",
      "epoch [115/200], loss:0.0329\n",
      "epoch [116/200], loss:0.0327\n",
      "epoch [117/200], loss:0.0327\n",
      "epoch [118/200], loss:0.0326\n",
      "epoch [119/200], loss:0.0329\n",
      "epoch [120/200], loss:0.0328\n",
      "epoch [121/200], loss:0.0327\n",
      "epoch [122/200], loss:0.0329\n",
      "epoch [123/200], loss:0.0328\n",
      "epoch [124/200], loss:0.0329\n",
      "epoch [125/200], loss:0.0326\n",
      "epoch [126/200], loss:0.0325\n",
      "epoch [127/200], loss:0.0328\n",
      "epoch [128/200], loss:0.0325\n",
      "epoch [129/200], loss:0.0326\n",
      "epoch [130/200], loss:0.0327\n",
      "epoch [131/200], loss:0.0329\n",
      "epoch [132/200], loss:0.0327\n",
      "epoch [133/200], loss:0.0327\n",
      "epoch [134/200], loss:0.0325\n",
      "epoch [135/200], loss:0.0328\n",
      "epoch [136/200], loss:0.0327\n",
      "epoch [137/200], loss:0.0329\n",
      "epoch [138/200], loss:0.0328\n",
      "epoch [139/200], loss:0.0326\n",
      "epoch [140/200], loss:0.0326\n",
      "epoch [141/200], loss:0.0326\n",
      "epoch [142/200], loss:0.0326\n",
      "epoch [143/200], loss:0.0326\n",
      "epoch [144/200], loss:0.0326\n",
      "epoch [145/200], loss:0.0325\n",
      "epoch [146/200], loss:0.0324\n",
      "epoch [147/200], loss:0.0325\n",
      "epoch [148/200], loss:0.0325\n",
      "epoch [149/200], loss:0.0324\n",
      "epoch [150/200], loss:0.0327\n",
      "epoch [151/200], loss:0.0325\n",
      "epoch [152/200], loss:0.0327\n",
      "epoch [153/200], loss:0.0326\n",
      "epoch [154/200], loss:0.0324\n",
      "epoch [155/200], loss:0.0327\n",
      "epoch [156/200], loss:0.0325\n",
      "epoch [157/200], loss:0.0325\n",
      "epoch [158/200], loss:0.0324\n",
      "epoch [159/200], loss:0.0325\n",
      "epoch [160/200], loss:0.0324\n",
      "epoch [161/200], loss:0.0325\n",
      "epoch [162/200], loss:0.0325\n",
      "epoch [163/200], loss:0.0324\n",
      "epoch [164/200], loss:0.0326\n",
      "epoch [165/200], loss:0.0324\n",
      "epoch [166/200], loss:0.0325\n",
      "epoch [167/200], loss:0.0326\n",
      "epoch [168/200], loss:0.0326\n",
      "epoch [169/200], loss:0.0326\n",
      "epoch [170/200], loss:0.0324\n",
      "epoch [171/200], loss:0.0324\n",
      "epoch [172/200], loss:0.0323\n",
      "epoch [173/200], loss:0.0325\n",
      "epoch [174/200], loss:0.0324\n",
      "epoch [175/200], loss:0.0323\n",
      "epoch [176/200], loss:0.0324\n",
      "epoch [177/200], loss:0.0323\n",
      "epoch [178/200], loss:0.0325\n",
      "epoch [179/200], loss:0.0324\n",
      "epoch [180/200], loss:0.0324\n",
      "epoch [181/200], loss:0.0325\n",
      "epoch [182/200], loss:0.0327\n",
      "epoch [183/200], loss:0.0325\n",
      "epoch [184/200], loss:0.0324\n",
      "epoch [185/200], loss:0.0324\n",
      "epoch [186/200], loss:0.0322\n",
      "epoch [187/200], loss:0.0324\n",
      "epoch [188/200], loss:0.0323\n",
      "epoch [189/200], loss:0.0325\n",
      "epoch [190/200], loss:0.0328\n",
      "epoch [191/200], loss:0.0327\n",
      "epoch [192/200], loss:0.0323\n",
      "epoch [193/200], loss:0.0324\n",
      "epoch [194/200], loss:0.0323\n",
      "epoch [195/200], loss:0.0323\n",
      "epoch [196/200], loss:0.0323\n",
      "epoch [197/200], loss:0.0324\n",
      "epoch [198/200], loss:0.0328\n",
      "epoch [199/200], loss:0.0328\n",
      "epoch [200/200], loss:0.0323\n"
     ]
    }
   ],
   "source": [
    "writer = SummaryWriter()\n",
    "\n",
    "testdataset = [dataset[1][0].reshape(1,28,28),\n",
    "               dataset[3][0].reshape(1,28,28),\n",
    "               dataset[5][0].reshape(1,28,28),\n",
    "               dataset[7][0].reshape(1,28,28),\n",
    "               dataset[2][0].reshape(1,28,28),\n",
    "               dataset[0][0].reshape(1,28,28),\n",
    "               dataset[13][0].reshape(1,28,28),\n",
    "               dataset[38][0].reshape(1,28,28),\n",
    "               dataset[17][0].reshape(1,28,28),\n",
    "               dataset[4][0].reshape(1,28,28)]\n",
    "\n",
    "#(dataset[1]) #0\n",
    "#(dataset[3]) #1\n",
    "#(dataset[5]) #2\n",
    "#(dataset[7]) #3\n",
    "#(dataset[2]) #4\n",
    "#(dataset[0]) #5\n",
    "#(dataset[13]) #6\n",
    "#(dataset[38]) #7\n",
    "#(dataset[17]) #8\n",
    "#(dataset[4]) #9\n",
    "\n",
    "temp = torchvision.utils.make_grid(testdataset, nrow=5)\n",
    "temp = temp[0]\n",
    "#print(temp.shape)\n",
    "writer.add_image(\"Test Dataset\", temp.reshape(1,62,152), epoch)\n",
    "\n",
    "def to_img(x):\n",
    "    x = 0.5 * (x + 1)\n",
    "    x = x.clamp(0, 1)\n",
    "    x = x.view(x.size(0), 1, 28, 28)\n",
    "    return x\n",
    "\n",
    "\n",
    "num_epochs = 200\n",
    "\n",
    "for epoch in range(num_epochs):\n",
    "    \n",
    "    total_tr_loss = 0\n",
    "    n_tr = 0\n",
    "    total_te_loss = 0\n",
    "    n_te = 0\n",
    "    \n",
    "    for data in data_iter_train:\n",
    "        img, _ = data\n",
    "        \n",
    "        input = img.view(img.size(0), -1)#.to(device)#.cuda()\n",
    "        output = model(input)\n",
    "        \n",
    "        loss = loss_func(output, input)\n",
    "        total_tr_loss += loss.item()\n",
    "        n_tr += 1\n",
    "        \n",
    "        optimizer.zero_grad()\n",
    "        loss.backward()\n",
    "        optimizer.step()\n",
    "            \n",
    "    with torch.no_grad():\n",
    "        for data in data_iter_test:\n",
    "            img_t, _ = data\n",
    "        \n",
    "            input = img_t.view(img_t.size(0), -1)#.to(device)#.cuda()\n",
    "            output = model(input)\n",
    "        \n",
    "            loss = loss_func(output, input)\n",
    "            total_te_loss += loss.item()\n",
    "            n_te += 1\n",
    "    \n",
    "    mean_te_loss = total_te_loss/n_te\n",
    "    mean_tr_loss = total_tr_loss/n_tr\n",
    "    \n",
    "    print('epoch [{}/{}], loss:{:.4f}'\n",
    "          .format(epoch + 1, num_epochs, mean_te_loss))\n",
    "    \n",
    "    if epoch % 10 == 0:\n",
    "        pic = to_img(output.cpu().data)\n",
    "        save_image(pic, './mlp_img/image_{}.png'.format(epoch))\n",
    "    \n",
    "    temp = torchvision.utils.make_grid([input[0].reshape(1,28,28),\n",
    "                    input[1].reshape(1,28,28),\n",
    "                    input[2].reshape(1,28,28),\n",
    "                    input[3].reshape(1,28,28),\n",
    "                    input[4].reshape(1,28,28),\n",
    "                    input[5].reshape(1,28,28),\n",
    "                    input[7].reshape(1,28,28),\n",
    "                    input[8].reshape(1,28,28)])\n",
    "    \n",
    "    temp = temp[0]\n",
    "    \n",
    "    writer.add_image(\"Training data\", temp.reshape(1,32,242), epoch)\n",
    "    \n",
    "    temp = torchvision.utils.make_grid([output[0].reshape(1,28,28),\n",
    "                    output[1].reshape(1,28,28),\n",
    "                    output[2].reshape(1,28,28),\n",
    "                    output[3].reshape(1,28,28),\n",
    "                    output[4].reshape(1,28,28),\n",
    "                    output[5].reshape(1,28,28),\n",
    "                    output[7].reshape(1,28,28),\n",
    "                    output[8].reshape(1,28,28)])\n",
    "    \n",
    "    temp = temp[0]\n",
    "    test_output = []\n",
    "    \n",
    "    for data in testdataset:\n",
    "        img = data\n",
    "        \n",
    "        input = img.view(img.size(0), -1)#.to(device)#.cuda()\n",
    "        test_output.append(model(input))\n",
    "        \n",
    "    temp2 = torchvision.utils.make_grid([test_output[0].reshape(1,28,28),\n",
    "                    test_output[1].reshape(1,28,28),\n",
    "                    test_output[2].reshape(1,28,28),\n",
    "                    test_output[3].reshape(1,28,28),\n",
    "                    test_output[4].reshape(1,28,28),\n",
    "                    test_output[5].reshape(1,28,28),\n",
    "                    test_output[6].reshape(1,28,28),\n",
    "                    test_output[7].reshape(1,28,28),\n",
    "                    test_output[8].reshape(1,28,28),\n",
    "                    test_output[9].reshape(1,28,28)], nrow=5)\n",
    "\n",
    "    writer.add_image(\"Model Test Dataset\", temp2[0].reshape(1,62,152), epoch)\n",
    "    writer.add_image(\"Output\", temp.reshape(1,32,242), epoch)\n",
    "    writer.add_scalar(\"Loss/Train\", mean_tr_loss, epoch)\n",
    "    writer.add_scalar(\"Loss/Test\", mean_te_loss, epoch)"
   ]
  },
  {
   "cell_type": "code",
   "execution_count": 13,
   "metadata": {},
   "outputs": [],
   "source": [
    "model = autoencoder()#.cuda()\n",
    "\n",
    "\n",
    "loss_func = nn.MSELoss()\n",
    "\n",
    "learning_rate = 1e-3\n",
    "optimizer = torch.optim.Adam(\n",
    "    model.parameters(), lr=learning_rate, weight_decay=1e-5)"
   ]
  },
  {
   "cell_type": "markdown",
   "metadata": {},
   "source": [
    "## 4) Loading And Saving"
   ]
  },
  {
   "cell_type": "markdown",
   "metadata": {},
   "source": [
    "##### Save"
   ]
  },
  {
   "cell_type": "code",
   "execution_count": 5,
   "metadata": {},
   "outputs": [],
   "source": [
    "torch.save(model.state_dict(), './sim_autoencoder.pth')"
   ]
  },
  {
   "cell_type": "markdown",
   "metadata": {},
   "source": [
    "##### Load"
   ]
  },
  {
   "cell_type": "code",
   "execution_count": 6,
   "metadata": {
    "scrolled": true
   },
   "outputs": [
    {
     "data": {
      "text/plain": [
       "<All keys matched successfully>"
      ]
     },
     "execution_count": 6,
     "metadata": {},
     "output_type": "execute_result"
    }
   ],
   "source": [
    "# torch.save(model, './sim_autoencoder.pth')\n",
    "model.load_state_dict(torch.load('./sim_autoencoder.pth', map_location='cpu'))"
   ]
  },
  {
   "cell_type": "markdown",
   "metadata": {},
   "source": [
    "## Applying to Images"
   ]
  },
  {
   "cell_type": "code",
   "execution_count": 14,
   "metadata": {},
   "outputs": [],
   "source": [
    "import numpy as np\n",
    "import matplotlib.pyplot as plt"
   ]
  },
  {
   "cell_type": "code",
   "execution_count": 17,
   "metadata": {},
   "outputs": [],
   "source": [
    "def forshow(img):\n",
    "    return transforms.ToPILImage(mode='L')(img.reshape(28,28))\n",
    "\n",
    "def encode(img_from_dataset):\n",
    "    norm_img = img_from_dataset.reshape(28*28)\n",
    "    return model.encoder(norm_img)\n",
    "\n",
    "def decode(encoding):\n",
    "    dec_img = model.decoder(encoding)\n",
    "    return dec_img\n",
    "\n",
    "def midFrame(img1, img2):\n",
    "    return decode((encode(img1) + encode(img2))/2)"
   ]
  },
  {
   "cell_type": "markdown",
   "metadata": {},
   "source": [
    "### Tests"
   ]
  },
  {
   "cell_type": "code",
   "execution_count": 19,
   "metadata": {},
   "outputs": [],
   "source": [
    "im1 = dataset[0][0]\n",
    "im2 = dataset[6][0]\n",
    "\n",
    "forshow(im1).show()\n",
    "forshow(decode(encode(im1))).show()\n",
    "\n"
   ]
  },
  {
   "cell_type": "code",
   "execution_count": 21,
   "metadata": {},
   "outputs": [],
   "source": [
    "mid1 = midFrame(im1, im2)\n",
    "\n",
    "mid2 = midFrame(mid1,im2)\n",
    "\n",
    "mid3 = midFrame(im1, mid1)\n",
    "for i in [im1, mid3, mid1, mid2, im2]:\n",
    "    forshow(i).show()"
   ]
  },
  {
   "cell_type": "code",
   "execution_count": 48,
   "metadata": {},
   "outputs": [],
   "source": [
    "img, _ = dataset[5]\n",
    "\n",
    "my_img = model(img.reshape(28*28))\n",
    "my_img = my_img.reshape(1,28,28)\n",
    "\n",
    "results = transforms.ToPILImage(mode='L')(my_img)\n",
    "results.show()\n",
    "\n",
    "#output[0]\n",
    "#image = output.cpu().numpy()[0]\n",
    "#image = np.transpose(image, (1,2,0))\n",
    "#plt.matshow(image)\n",
    "#plt.show()"
   ]
  },
  {
   "cell_type": "code",
   "execution_count": 49,
   "metadata": {},
   "outputs": [],
   "source": [
    "img, _ = dataset[5]\n",
    "results = transforms.ToPILImage(mode='L')(img.reshape(1,28,28)) \n",
    "results.show()\n",
    "\n",
    "img2 = model(img.reshape(28*28))\n",
    "results2 = transforms.ToPILImage(mode='L')(img2.reshape(1,28,28)) \n",
    "results2.show()"
   ]
  },
  {
   "cell_type": "code",
   "execution_count": 63,
   "metadata": {},
   "outputs": [],
   "source": [
    "#show middle\n",
    "img, _ = dataset[0]\n",
    "img2, _ = dataset[1]\n",
    "enc1 = model.encoder(img.reshape(28*28))\n",
    "enc2 = model.encoder(img2.reshape(28*28))"
   ]
  },
  {
   "cell_type": "code",
   "execution_count": 68,
   "metadata": {},
   "outputs": [],
   "source": [
    "toPILimg(img).show()\n",
    "toPILimg(img2).show()\n",
    "result = (enc1+enc2)/2\n",
    "decode(result).show()"
   ]
  },
  {
   "cell_type": "code",
   "execution_count": 20,
   "metadata": {},
   "outputs": [
    {
     "ename": "NameError",
     "evalue": "name 'toPILimg' is not defined",
     "output_type": "error",
     "traceback": [
      "\u001b[1;31m---------------------------------------------------------------------------\u001b[0m",
      "\u001b[1;31mNameError\u001b[0m                                 Traceback (most recent call last)",
      "\u001b[1;32m<ipython-input-20-c87949b37299>\u001b[0m in \u001b[0;36m<module>\u001b[1;34m\u001b[0m\n\u001b[0;32m      1\u001b[0m \u001b[0mimg5_2\u001b[0m\u001b[1;33m,\u001b[0m \u001b[0m_\u001b[0m \u001b[1;33m=\u001b[0m \u001b[0mdataset\u001b[0m\u001b[1;33m[\u001b[0m\u001b[1;36m11\u001b[0m\u001b[1;33m]\u001b[0m\u001b[1;33m\u001b[0m\u001b[1;33m\u001b[0m\u001b[0m\n\u001b[0;32m      2\u001b[0m \u001b[0mimg5_1\u001b[0m\u001b[1;33m,\u001b[0m \u001b[0m_\u001b[0m \u001b[1;33m=\u001b[0m \u001b[0mdataset\u001b[0m\u001b[1;33m[\u001b[0m\u001b[1;36m0\u001b[0m\u001b[1;33m]\u001b[0m\u001b[1;33m\u001b[0m\u001b[1;33m\u001b[0m\u001b[0m\n\u001b[1;32m----> 3\u001b[1;33m \u001b[0mtoPILimg\u001b[0m\u001b[1;33m(\u001b[0m\u001b[0mimg5_1\u001b[0m\u001b[1;33m)\u001b[0m\u001b[1;33m.\u001b[0m\u001b[0mshow\u001b[0m\u001b[1;33m(\u001b[0m\u001b[1;33m)\u001b[0m\u001b[1;33m\u001b[0m\u001b[1;33m\u001b[0m\u001b[0m\n\u001b[0m\u001b[0;32m      4\u001b[0m \u001b[0mtoPILimg\u001b[0m\u001b[1;33m(\u001b[0m\u001b[0mimg5_2\u001b[0m\u001b[1;33m)\u001b[0m\u001b[1;33m.\u001b[0m\u001b[0mshow\u001b[0m\u001b[1;33m(\u001b[0m\u001b[1;33m)\u001b[0m\u001b[1;33m\u001b[0m\u001b[1;33m\u001b[0m\u001b[0m\n\u001b[0;32m      5\u001b[0m \u001b[0mmidFrame\u001b[0m\u001b[1;33m(\u001b[0m\u001b[0mimg5_1\u001b[0m\u001b[1;33m,\u001b[0m \u001b[0mimg5_2\u001b[0m\u001b[1;33m)\u001b[0m\u001b[1;33m.\u001b[0m\u001b[0mshow\u001b[0m\u001b[1;33m(\u001b[0m\u001b[1;33m)\u001b[0m\u001b[1;33m\u001b[0m\u001b[1;33m\u001b[0m\u001b[0m\n",
      "\u001b[1;31mNameError\u001b[0m: name 'toPILimg' is not defined"
     ]
    }
   ],
   "source": [
    "img5_2, _ = dataset[11]\n",
    "img5_1, _ = dataset[0]\n",
    "toPILimg(img5_1).show()\n",
    "toPILimg(img5_2).show()\n",
    "midFrame(img5_1, img5_2).show()"
   ]
  },
  {
   "cell_type": "code",
   "execution_count": null,
   "metadata": {},
   "outputs": [],
   "source": []
  }
 ],
 "metadata": {
  "kernelspec": {
   "display_name": "Python 3",
   "language": "python",
   "name": "python3"
  },
  "language_info": {
   "codemirror_mode": {
    "name": "ipython",
    "version": 3
   },
   "file_extension": ".py",
   "mimetype": "text/x-python",
   "name": "python",
   "nbconvert_exporter": "python",
   "pygments_lexer": "ipython3",
   "version": "3.7.3"
  }
 },
 "nbformat": 4,
 "nbformat_minor": 2
}
